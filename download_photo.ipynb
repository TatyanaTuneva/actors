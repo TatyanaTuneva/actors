{
 "cells": [
  {
   "cell_type": "code",
   "execution_count": null,
   "id": "92333b70",
   "metadata": {
    "pycharm": {
     "name": "#%%\n"
    }
   },
   "outputs": [],
   "source": [
    "from urllib import request\n",
    "from bs4 import BeautifulSoup\n",
    "from random import randint\n",
    "import time\n",
    "import json\n",
    "import glob\n",
    "import face_recognition\n",
    "import os\n",
    "from PIL import Image, ImageOps\n",
    "import numpy as np\n",
    "from tqdm.notebook import tqdm\n",
    "from selenium import webdriver\n",
    "import pandas as pd\n",
    "import shutil"
   ]
  },
  {
   "cell_type": "code",
   "execution_count": null,
   "id": "04aa5289",
   "metadata": {
    "pycharm": {
     "name": "#%%\n"
    }
   },
   "outputs": [],
   "source": [
    "with open('config/actress_actors.json', 'r') as fp:\n",
    "    list_act = json.load(fp)"
   ]
  },
  {
   "cell_type": "code",
   "execution_count": null,
   "outputs": [],
   "source": [
    "len(list_act)"
   ],
   "metadata": {
    "collapsed": false,
    "pycharm": {
     "name": "#%%\n"
    }
   }
  },
  {
   "cell_type": "code",
   "execution_count": null,
   "outputs": [],
   "source": [
    "driver = webdriver.Chrome(executable_path=r\"C:\\Users\\zayse\\Desktop\\actor\\config\\chromedriver.exe\")"
   ],
   "metadata": {
    "collapsed": false,
    "pycharm": {
     "name": "#%%\n"
    }
   }
  },
  {
   "cell_type": "code",
   "execution_count": null,
   "id": "951b23ab",
   "metadata": {
    "pycharm": {
     "name": "#%%\n"
    }
   },
   "outputs": [],
   "source": [
    "def downloadimages(name, count, parent_dir):\n",
    "    str_face = f'face%20{name}'.replace(' ', '%20')\n",
    "    dir_ = f'{parent_dir}/{name}/'\n",
    "    count_of_photo = 0\n",
    "\n",
    "    if os.path.exists(dir_):\n",
    "        files = glob.glob(f'{parent_dir}/{name}/*')\n",
    "        print(f'Path almost exist {dir_}')\n",
    "        if len(files) > 0:\n",
    "            print(f'Download {len(files)} photo {name} soon')\n",
    "            print()\n",
    "            return\n",
    "    else:\n",
    "        os.makedirs(dir_)\n",
    "\n",
    "    driver.get(f'https://yandex.ru/images/search?text={str_face}')\n",
    "\n",
    "    for i in range(1, count // 10):\n",
    "        driver.execute_script(f'window.scrollTo(0, {i * 800})')\n",
    "        time.sleep(randint(2, 5))\n",
    "\n",
    "    html = driver.page_source\n",
    "    soup = BeautifulSoup(html, \"html.parser\")\n",
    "\n",
    "    for text in soup.findAll(attrs={'class': 'serp-item__thumb justifier__thumb'}):\n",
    "        if count_of_photo == count:\n",
    "            break\n",
    "        url = \"http:\" + text.get('src')\n",
    "        request.urlretrieve(url, dir_ + str(count_of_photo) + \".jpg\")\n",
    "        count_of_photo += 1\n",
    "\n",
    "    print(f'Download {count_of_photo} images of {name}')\n",
    "    print()\n",
    "    \n",
    "    time.sleep(randint(5, 10))"
   ]
  },
  {
   "cell_type": "code",
   "execution_count": null,
   "outputs": [],
   "source": [
    "for name in tqdm(list_act):\n",
    "    #downloadimages(name, 200, 'dataset')\n",
    "    downloadimages(name, 1, 'examples')"
   ],
   "metadata": {
    "collapsed": false,
    "pycharm": {
     "name": "#%%\n"
    }
   }
  },
  {
   "cell_type": "code",
   "execution_count": null,
   "outputs": [],
   "source": [
    "for name in tqdm(list_act):\n",
    "    if os.path.exists(f'dataset/{name}'):\n",
    "        files = glob.glob(f'dataset/{name}/*')\n",
    "        path = f'dataset/{name}/'\n",
    "        count = 0\n",
    "        for file in files:\n",
    "                if file != '.DS_Store':\n",
    "                    img = Image.open(file)\n",
    "\n",
    "                    width, height = img.size\n",
    "                    if width == height == 200:\n",
    "                          continue\n",
    "                    face = np.array(img)\n",
    "\n",
    "                    coordinates = face_recognition.face_locations(face)\n",
    "\n",
    "                    if len(coordinates) == 1:\n",
    "\n",
    "                        top, right, bottom, left = coordinates[0]\n",
    "\n",
    "                        crop = (left - left // 2, top - top // 2, right + (width - right) // 2, bottom + (height - bottom) // 2)\n",
    "\n",
    "                        img_crop = img.crop(crop)\n",
    "\n",
    "                        img_crop = ImageOps.fit(img_crop, (200, 200), method = 0, bleed = 0.0, centering =(0.5, 0.5))\n",
    "\n",
    "                        img_crop.save(f'{path}img{count}.jpg')\n",
    "                        os.remove(file)\n",
    "                        count += 1\n",
    "                    else:\n",
    "                        print(f'Pic {file} is error')\n",
    "                        os.remove(file)\n",
    "                else:\n",
    "                    print(f'Pic {file} is error')\n",
    "                    os.remove(file)\n",
    "\n",
    "        print(f'{name} is done. {count} pic')\n",
    "        print()"
   ],
   "metadata": {
    "collapsed": false,
    "pycharm": {
     "name": "#%%\n"
    }
   }
  },
  {
   "cell_type": "code",
   "execution_count": null,
   "outputs": [],
   "source": [
    "count_of_photo = pd.DataFrame(columns=['name', 'count'])\n",
    "\n",
    "for name in list_act:\n",
    "    if os.path.exists(f'dataset/{name}'):\n",
    "        files = len(glob.glob(f'dataset/{name}/*'))\n",
    "        count_of_photo = count_of_photo.append({'name' : name,\n",
    "                                                'count' : files},\n",
    "                                               ignore_index = True)"
   ],
   "metadata": {
    "collapsed": false,
    "pycharm": {
     "name": "#%%\n"
    }
   }
  },
  {
   "cell_type": "code",
   "execution_count": null,
   "outputs": [],
   "source": [
    "count_of_photo.sort_values(by=['count'])"
   ],
   "metadata": {
    "collapsed": false,
    "pycharm": {
     "name": "#%%\n"
    }
   }
  },
  {
   "cell_type": "code",
   "execution_count": null,
   "outputs": [],
   "source": [
    "del_photo = count_of_photo.loc[count_of_photo['count'] < 80]\n",
    "del_photo"
   ],
   "metadata": {
    "collapsed": false,
    "pycharm": {
     "name": "#%%\n"
    }
   }
  },
  {
   "cell_type": "code",
   "execution_count": null,
   "outputs": [],
   "source": [
    "for i in del_photo['name']:\n",
    "    path = f'dataset/{i}/'\n",
    "    shutil.rmtree(path)"
   ],
   "metadata": {
    "collapsed": false,
    "pycharm": {
     "name": "#%%\n"
    }
   }
  },
  {
   "cell_type": "code",
   "execution_count": null,
   "outputs": [],
   "source": [
    "files = glob.glob(f'img_test/*')\n",
    "for file in files:\n",
    "\n",
    "    img = Image.open(file)\n",
    "    width, height = img.size\n",
    "\n",
    "    if width == height == 200:\n",
    "        continue\n",
    "\n",
    "    face = np.array(img)\n",
    "\n",
    "    coordinates = face_recognition.face_locations(face)\n",
    "    if len(coordinates) == 1:\n",
    "\n",
    "        top, right, bottom, left = coordinates[0]\n",
    "\n",
    "        crop = (left - left // 2, top - top // 2, right + (width - right) // 2, bottom + (height - bottom) // 2)\n",
    "\n",
    "        img_crop = img.crop(crop)\n",
    "\n",
    "        img_crop = ImageOps.fit(img_crop, (200, 200), method = 0, bleed = 0.0, centering =(0.5, 0.5))\n",
    "        img_crop.save(file)\n",
    "    else:\n",
    "        os.remove(file)"
   ],
   "metadata": {
    "collapsed": false,
    "pycharm": {
     "name": "#%%\n"
    }
   }
  }
 ],
 "metadata": {
  "kernelspec": {
   "display_name": "Python 3 (ipykernel)",
   "language": "python",
   "name": "python3"
  },
  "language_info": {
   "codemirror_mode": {
    "name": "ipython",
    "version": 3
   },
   "file_extension": ".py",
   "mimetype": "text/x-python",
   "name": "python",
   "nbconvert_exporter": "python",
   "pygments_lexer": "ipython3",
   "version": "3.8.0"
  }
 },
 "nbformat": 4,
 "nbformat_minor": 5
}